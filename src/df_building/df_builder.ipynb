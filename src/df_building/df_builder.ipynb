{
 "cells": [
  {
   "cell_type": "markdown",
   "metadata": {},
   "source": [
    "Création du dataframe d'entrainement final à partir des données\n",
    "- Tweets format score\n",
    "- Données BTC (API Coingecko) labelisées via Triple Barrier Method\n",
    "- Données macroéconomique (API FRED)"
   ]
  },
  {
   "cell_type": "code",
   "execution_count": null,
   "metadata": {},
   "outputs": [],
   "source": [
    "import os\n",
    "import pandas as pd\n",
    "import torch\n",
    "from transformers import AutoTokenizer, AutoModelForSequenceClassification\n",
    "\n",
    "from get_data_API import get_economic_data\n",
    "from get_sentiment_score import tweets_to_sentiment_scores"
   ]
  },
  {
   "cell_type": "markdown",
   "metadata": {},
   "source": [
    "## Données macroéconomique"
   ]
  },
  {
   "cell_type": "code",
   "execution_count": null,
   "metadata": {},
   "outputs": [],
   "source": [
    "# clef API FRED obtenue via https://fred.stlouisfed.org/docs/api/api_key.html\n",
    "FRED_API_KEY = os.getenv('FRED_API_KEY')\n",
    "\n",
    "series_list = ['DFF', # FF Federal Funds\n",
    "            'NFINCP', # NFCP Nonfinancial commercial paper outstanding\n",
    "            'FINCP', # FCP Financial commercial paper outstanding\n",
    "                'DPRIME', # PRIME Bank prime loan\n",
    "                'DPCREDIT', # DWPC Discount window primary credit\n",
    "                'DTWEXBGS', # Nominal Broad U.S. Dollar Index \n",
    "                'CPIAUCSL', #Consumer price index\n",
    "                'DGS3MO', # Market Yield on U.S. Treasury Securities 3 mois\n",
    "                'DGS1', # Market Yield on U.S. Treasury Securities 1 an\n",
    "                'DGS30' # Market Yield on U.S. Treasury Securities 30 ans\n",
    "                ]\n",
    "\n",
    "economic_df = get_economic_data(series_id_list=series_list, api_key=FRED_API_KEY)"
   ]
  },
  {
   "cell_type": "markdown",
   "metadata": {},
   "source": [
    "## Données X scraped"
   ]
  },
  {
   "cell_type": "code",
   "execution_count": null,
   "metadata": {},
   "outputs": [],
   "source": [
    "tokenizer = AutoTokenizer.from_pretrained(\"finiteautomata/bertweet-base-sentiment-analysis\")\n",
    "model = AutoModelForSequenceClassification.from_pretrained(\"finiteautomata/bertweet-base-sentiment-analysis\")\n",
    "\n",
    "tweets_df = pd.read_csv('data/tweets/tweets_data_CoinDesk.csv')\n",
    "tweets_text = tweets_df['tweet_text'].tolist()\n",
    "\n",
    "# prediction des scores\n",
    "scores = tweets_to_sentiment_scores(tweets_text)\n",
    "\n",
    "# ajout scores au df\n",
    "tweets_df['negative'] = scores[:, 0].tolist()\n",
    "tweets_df['neutral'] = scores[:, 1].tolist()\n",
    "tweets_df['positive'] = scores[:, 2].tolist()\n",
    "\n",
    "print(tweets_df)\n"
   ]
  },
  {
   "cell_type": "markdown",
   "metadata": {},
   "source": [
    "## Données Bitcoin + Labels TBM via Genetic optimization"
   ]
  },
  {
   "cell_type": "code",
   "execution_count": null,
   "metadata": {},
   "outputs": [],
   "source": []
  }
 ],
 "metadata": {
  "kernelspec": {
   "display_name": ".venv",
   "language": "python",
   "name": "python3"
  },
  "language_info": {
   "name": "python",
   "version": "3.11.4"
  }
 },
 "nbformat": 4,
 "nbformat_minor": 2
}
