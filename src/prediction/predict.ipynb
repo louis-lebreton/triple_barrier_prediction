{
 "cells": [
  {
   "cell_type": "markdown",
   "metadata": {},
   "source": [
    "Valeurs de SHAP"
   ]
  },
  {
   "cell_type": "code",
   "execution_count": null,
   "metadata": {},
   "outputs": [],
   "source": [
    "import pandas as pd\n",
    "import shap\n",
    "# Création du dataframe X_test\n",
    "\n",
    "# ROI extraction\n",
    "fe = ROIsFeatureExtractor()\n",
    "X_test_ROI = fe.transform(X_test)\n",
    "\n",
    "# scaling\n",
    "scaler = StandardScaler()\n",
    "scaler.fit(X_test_ROI)\n",
    "X_test_ROI_scaled = scaler.transform(X_test_ROI)\n",
    "\n",
    "# récupération des 284 dernières colonnes de test_rois pour avoir le noms de features dans le tableau\n",
    "df_test_rois = pd.read_csv(\"data/test_rois.csv\")\n",
    "feature_names = df_test_rois.columns[7:] # on ne prend pas en compte les 7 premières colonnes\n",
    "X_test_ROI_scaled_df = pd.DataFrame(X_test_ROI_scaled, columns=feature_names)\n",
    "\n",
    "# modèle\n",
    "final_model = best_estimator.named_steps['votingclassifier'].estimators_[0]\n",
    "\n",
    "# SHAP explainer\n",
    "explainer = shap.LinearExplainer(final_model, X_test_ROI_scaled_df)\n",
    "shap_values = explainer.shap_values(X_test_ROI_scaled_df)\n",
    "\n",
    "# 10 prédicteurs les plus importants\n",
    "shap.summary_plot(shap_values, X_test_ROI_scaled_df, plot_type=\"bar\", max_display=10)\n",
    "shap.summary_plot(shap_values, X_test_ROI_scaled_df)"
   ]
  }
 ],
 "metadata": {
  "kernelspec": {
   "display_name": ".venv",
   "language": "python",
   "name": "python3"
  },
  "language_info": {
   "name": "python",
   "version": "3.11.4"
  }
 },
 "nbformat": 4,
 "nbformat_minor": 2
}
